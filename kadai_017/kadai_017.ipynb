{
  "nbformat": 4,
  "nbformat_minor": 0,
  "metadata": {
    "colab": {
      "provenance": []
    },
    "kernelspec": {
      "name": "python3",
      "display_name": "Python 3"
    },
    "language_info": {
      "name": "python"
    }
  },
  "cells": [
    {
      "cell_type": "code",
      "execution_count": 2,
      "metadata": {
        "colab": {
          "base_uri": "https://localhost:8080/"
        },
        "id": "ojWwxHBwiIO-",
        "outputId": "e6af533c-7d9a-404e-934c-0f20aba57f35"
      },
      "outputs": [
        {
          "output_type": "stream",
          "name": "stdout",
          "text": [
            "Taro は大人です\n",
            "Hanako は大人ではありません\n",
            "Jiro は大人です\n",
            "Yuki は大人ではありません\n"
          ]
        }
      ],
      "source": [
        "class Human:\n",
        "    def __init__(self, name, age):\n",
        "        self.name = name  # 名前の属性\n",
        "        self.age = age    # 年齢の属性\n",
        "\n",
        "    def check_adult(self):\n",
        "        # 年齢が20以上かどうかを判定して表示\n",
        "        if self.age >= 20:\n",
        "            print(f\"{self.name} は大人です\")\n",
        "        else:\n",
        "            print(f\"{self.name} は大人ではありません\")\n",
        "\n",
        "# Humanクラスのインスタンスを複数生成\n",
        "humans = [\n",
        "    Human(\"Taro\", 25),\n",
        "    Human(\"Hanako\", 18),\n",
        "    Human(\"Jiro\", 30),\n",
        "    Human(\"Yuki\", 15)\n",
        "]\n",
        "\n",
        "# リストの要素分だけcheck_adultメソッドを呼び出し\n",
        "for human in humans:\n",
        "    human.check_adult()\n"
      ]
    }
  ]
}