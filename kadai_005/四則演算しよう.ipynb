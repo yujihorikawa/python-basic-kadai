{
  "cells": [
    {
      "cell_type": "code",
      "execution_count": null,
      "metadata": {
        "id": "zwFnJsE6vjf8",
        "colab": {
          "base_uri": "https://localhost:8080/"
        },
        "outputId": "a5a2cad5-3509-4b8f-b22d-d80fa72b7550"
      },
      "outputs": [
        {
          "output_type": "stream",
          "name": "stdout",
          "text": [
            "75.0cm\n"
          ]
        }
      ],
      "source": [
        "top_line = 10\n",
        "under_line = 20\n",
        "hight_line = 5\n",
        "\n",
        "area = (top_line + under_line) * hight_line / 2  # 台形の面積を計算し、変数に代入\n",
        "\n",
        "print(str(area) + \"cm\")  # 計算結果を出力\n"
      ]
    },
    {
      "cell_type": "code",
      "source": [],
      "metadata": {
        "id": "Eofq0UU9cPRI"
      },
      "execution_count": null,
      "outputs": []
    }
  ],
  "metadata": {
    "colab": {
      "toc_visible": true,
      "provenance": []
    },
    "kernelspec": {
      "display_name": "Python 3",
      "name": "python3"
    }
  },
  "nbformat": 4,
  "nbformat_minor": 0
}