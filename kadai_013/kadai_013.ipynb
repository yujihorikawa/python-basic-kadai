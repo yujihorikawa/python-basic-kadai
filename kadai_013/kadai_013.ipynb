{
  "nbformat": 4,
  "nbformat_minor": 0,
  "metadata": {
    "colab": {
      "provenance": []
    },
    "kernelspec": {
      "name": "python3",
      "display_name": "Python 3"
    },
    "language_info": {
      "name": "python"
    }
  },
  "cells": [
    {
      "cell_type": "code",
      "execution_count": 2,
      "metadata": {
        "colab": {
          "base_uri": "https://localhost:8080/"
        },
        "id": "XrVtTM8JC3kw",
        "outputId": "b853fc3d-a95a-4abb-d4fb-f7a6ac0385f9"
      },
      "outputs": [
        {
          "output_type": "stream",
          "name": "stdout",
          "text": [
            "100円（税込 : 110.0円）\n"
          ]
        }
      ],
      "source": [
        "def total_price(price, tax):\n",
        "    tax_amount = price * (tax / 100)\n",
        "    total_price = price + tax_amount\n",
        "    print(f\"{price}円（税込 : {total_price}円）\")\n",
        "\n",
        "total_price(100, 10)\n"
      ]
    }
  ]
}