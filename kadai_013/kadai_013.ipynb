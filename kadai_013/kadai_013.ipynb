{
  "nbformat": 4,
  "nbformat_minor": 0,
  "metadata": {
    "colab": {
      "provenance": []
    },
    "kernelspec": {
      "name": "python3",
      "display_name": "Python 3"
    },
    "language_info": {
      "name": "python"
    }
  },
  "cells": [
    {
      "cell_type": "code",
      "source": [
        "def calculate_price_with_tax(price, tax_rate=0.10):\n",
        "\n",
        "\n",
        "    tax_amount = price * tax_rate\n",
        "\n",
        "    total_price = price + tax_amount\n",
        "    return total_price\n",
        "\n",
        "\n",
        "price = 1000\n",
        "tax_rate = 0.10\n",
        "total_price = calculate_price_with_tax(price, tax_rate)\n",
        "\n",
        "print(f\"商品の税込み価格: {total_price}円\")\n"
      ],
      "metadata": {
        "colab": {
          "base_uri": "https://localhost:8080/"
        },
        "id": "0gmR-eddz-Tn",
        "outputId": "27ef5fcf-ace9-43c9-b092-38f9950cf964"
      },
      "execution_count": 1,
      "outputs": [
        {
          "output_type": "stream",
          "name": "stdout",
          "text": [
            "商品の税込み価格: 1100.0円\n"
          ]
        }
      ]
    }
  ]
}