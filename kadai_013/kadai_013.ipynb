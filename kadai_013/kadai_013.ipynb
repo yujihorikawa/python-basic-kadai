{
  "nbformat": 4,
  "nbformat_minor": 0,
  "metadata": {
    "colab": {
      "provenance": []
    },
    "kernelspec": {
      "name": "python3",
      "display_name": "Python 3"
    },
    "language_info": {
      "name": "python"
    }
  },
  "cells": [
    {
      "cell_type": "code",
      "source": [
        "def product(price):\n",
        "\n",
        "    tax_rate = 0.10\n",
        "\n",
        "    total = price * tax_rate + price\n",
        "    return total\n",
        "\n",
        "\n",
        "print(f\"total is {product(100)}\")\n"
      ],
      "metadata": {
        "colab": {
          "base_uri": "https://localhost:8080/"
        },
        "id": "LXJCbvlPb0aX",
        "outputId": "54630a15-f5fa-464e-d588-9c6a14a6ef11"
      },
      "execution_count": 3,
      "outputs": [
        {
          "output_type": "stream",
          "name": "stdout",
          "text": [
            "total is 110.0\n"
          ]
        }
      ]
    }
  ]
}